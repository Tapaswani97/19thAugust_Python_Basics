{
 "cells": [
  {
   "cell_type": "markdown",
   "id": "c04260a9",
   "metadata": {},
   "source": [
    "1. Declare two variables, `x` and `y`, and assign them integer values. Swap the\n",
    "values of these variables without using any temporary variable.\n"
   ]
  },
  {
   "cell_type": "code",
   "execution_count": 1,
   "id": "ac0c851e",
   "metadata": {},
   "outputs": [
    {
     "name": "stdout",
     "output_type": "stream",
     "text": [
      "30 20\n"
     ]
    }
   ],
   "source": [
    "#Declaring x and y as 20 & 30\n",
    "x = 20\n",
    "y = 30\n",
    "# Add x+y and store the value 50 in x.\n",
    "x = x+y \n",
    "# Now x value is 50. Subtract y i.e 30 from x and assign it in y variable.\n",
    "y=x-y\n",
    "# The current value of y is 20 and let's substract y from x i.e 50-20 = 30 and assign 30 to the variable x.\n",
    "x=x-y \n",
    "print(x,y) # Print the values and the values of x & y will be 30 and 20"
   ]
  },
  {
   "cell_type": "markdown",
   "id": "706b75af",
   "metadata": {},
   "source": [
    "# 2. Create a program that calculates the area of a rectangle. Take the length and width as inputs from the user and store them in variables. Calculate and display the area"
   ]
  },
  {
   "cell_type": "code",
   "execution_count": 4,
   "id": "aab9ea69",
   "metadata": {},
   "outputs": [
    {
     "name": "stdout",
     "output_type": "stream",
     "text": [
      "Enter the length:45.6\n",
      "Enter the breadth:56.7\n",
      "Area of rectangle is: 2585.5200000000004\n"
     ]
    }
   ],
   "source": [
    "# Declare the variables\n",
    "length = float(input(\"Enter the length:\"))\n",
    "breadth = float(input(\"Enter the breadth:\"))\n",
    "# After taking the user input we have to create a variable that will store the expression for calculating the area of rectangle.\n",
    "# The formula is Area_of_rectangle = length * Breadth\n",
    "\n",
    "area_of_rectangle = length * breadth\n",
    "print(\"Area of rectangle is:\",area_of_rectangle)"
   ]
  },
  {
   "cell_type": "markdown",
   "id": "c17f2824",
   "metadata": {},
   "source": [
    "3. Write a Python program that converts temperatures from Celsius to\n",
    "Fahrenheit. Take the temperature in Celsius as input, store it in a variable,\n",
    "convert it to Fahrenheit, and display the result.\n"
   ]
  },
  {
   "cell_type": "code",
   "execution_count": 7,
   "id": "09250d3a",
   "metadata": {},
   "outputs": [
    {
     "name": "stdout",
     "output_type": "stream",
     "text": [
      "Enter the value for celcius:77\n",
      "The given celcius value 77.0  degree is equal to 170.6 degree fahrenheit value\n"
     ]
    }
   ],
   "source": [
    "# Create the variable as celcius which will be taking the input as float or integer from the user\n",
    "celcius = float(input(\"Enter the value for celcius:\"))\n",
    "# Define the expression for coverting celcius to fahrenheit and assign it to a variable.\n",
    "fahrenheit = (celcius * 1.8) + 32\n",
    "# Now use the print statement to add some sentence along with the variables to display the result.\n",
    "print(\"The given celcius value\",celcius,\" degree is equal to\",fahrenheit,\"degree fahrenheit value\")"
   ]
  },
  {
   "cell_type": "markdown",
   "id": "5061841f",
   "metadata": {},
   "source": [
    "# TOPIC: String Based Questions"
   ]
  },
  {
   "cell_type": "markdown",
   "id": "16027db1",
   "metadata": {},
   "source": [
    "1. Write a Python program that takes a string as input and prints the length of the string.\n"
   ]
  },
  {
   "cell_type": "code",
   "execution_count": 9,
   "id": "b4217de8",
   "metadata": {},
   "outputs": [
    {
     "name": "stdout",
     "output_type": "stream",
     "text": [
      "Enter a string:I am student of PWSKILLS\n",
      "24\n"
     ]
    },
    {
     "data": {
      "text/plain": [
       "24"
      ]
     },
     "execution_count": 9,
     "metadata": {},
     "output_type": "execute_result"
    }
   ],
   "source": [
    "#Create a variable assigning the input statement by giving string data type so that it will only take string input from the user\n",
    "a = str(input(\"Enter a string:\"))\n",
    "#Use a print statement to print the length of the string by using length function\n",
    "#print(len(a))\n",
    "\n",
    "#Another approach, create a varibale by assigning the length function upon the string\n",
    "\n",
    "b = len(a)\n",
    "# call the b variable\n",
    "b"
   ]
  },
  {
   "cell_type": "markdown",
   "id": "b8c91ef0",
   "metadata": {},
   "source": [
    "2. Create a program that takes a sentence from the user and counts the number of vowels (a, e, i, o, u) in the string.\n"
   ]
  },
  {
   "cell_type": "code",
   "execution_count": 11,
   "id": "1a2a4848",
   "metadata": {},
   "outputs": [
    {
     "name": "stdout",
     "output_type": "stream",
     "text": [
      "Enter a sentence:My name is Tapaswani Nayak\n",
      "The number of vowels is: 9\n"
     ]
    }
   ],
   "source": [
    "#Create a variable and assign the code which will take the input from user as string\n",
    "sentence = input(\"Enter a sentence:\")\n",
    "#create a variable and initialize it to 0\n",
    "vowels = 0\n",
    "#Use for loop to loop over each character of the input sentence\n",
    "for i in sentence:\n",
    "#Give the if condition to check if the characters is a,e,i,o,u then increment the value of vowels 1 each time it will find the required characters\n",
    "    if i in ('a','e','i','o','u'):\n",
    "        vowels = vowels+1\n",
    "#print the output       \n",
    "print(\"The number of vowels is:\",vowels)"
   ]
  },
  {
   "cell_type": "markdown",
   "id": "f812e4eb",
   "metadata": {},
   "source": [
    "3. Given a string, reverse the order of characters using string slicing and print\n",
    "the reversed string."
   ]
  },
  {
   "cell_type": "code",
   "execution_count": 17,
   "id": "0785bead",
   "metadata": {},
   "outputs": [
    {
     "name": "stdout",
     "output_type": "stream",
     "text": [
      "Enter a string:Tapaswani\n",
      "inawsapaT\n"
     ]
    }
   ],
   "source": [
    "#Create a variable by giving the user input from keyboard\n",
    "string = input(\"Enter a string:\")\n",
    "# Create anothe variable and assign the slicing output.\n",
    "#to reverse a string we can use ::-1 which will be taking all the characters from last index\n",
    "reverse_string = string[::-1]\n",
    "#print the output\n",
    "print(reverse_string)"
   ]
  },
  {
   "cell_type": "markdown",
   "id": "dd0657a1",
   "metadata": {},
   "source": [
    "4. Write a program that takes a string as input and checks if it is a palindrome\n",
    "(reads the same forwards and backwards).\n"
   ]
  },
  {
   "cell_type": "code",
   "execution_count": 20,
   "id": "1d5cb384",
   "metadata": {},
   "outputs": [
    {
     "name": "stdout",
     "output_type": "stream",
     "text": [
      "Enter a string:malayalam\n",
      "malayalam is pallindrome\n"
     ]
    }
   ],
   "source": [
    "#The above code we will take\n",
    "#Create a variable by giving the user input from keyboard\n",
    "string = input(\"Enter a string:\")\n",
    "# Create anothe variable and assign the slicing output.\n",
    "#to reverse a string we can use ::-1 which will be taking all the characters from last index\n",
    "reverse_string = string_1[::-1]\n",
    "#Covert the string into lowercase\n",
    "string_1 = string.lower()\n",
    "\n",
    "#We will write a condition to check whether the input string  given is same when reading in the reverse form\n",
    "\n",
    "if string_1 == reverse_string:\n",
    "    print(string_1,\"is pallindrome\")\n",
    "else:\n",
    "    print(\"This is not a pallindrome\")"
   ]
  },
  {
   "cell_type": "markdown",
   "id": "d98d992f",
   "metadata": {},
   "source": [
    "5. Create a program that takes a string as input and removes all the spaces from\n",
    "it. Print the modified string without spaces.\n"
   ]
  },
  {
   "cell_type": "code",
   "execution_count": 23,
   "id": "76fc96f4",
   "metadata": {},
   "outputs": [
    {
     "name": "stdout",
     "output_type": "stream",
     "text": [
      "Enter a string:    Py th on\n",
      "Python\n"
     ]
    }
   ],
   "source": [
    "#take the input from the user\n",
    "\n",
    "a = input(\"Enter a string:\")\n",
    "#Create a variable with empty string\n",
    "a_cleaned = \"\"\n",
    "# use for loop to loop over each character in a\n",
    "for i in a:\n",
    "#give the condition which will check if the character is not a blank then only it will be added to the empty string\n",
    "    if i != \" \":\n",
    "        a_cleaned += i\n",
    "print(a_cleaned)"
   ]
  },
  {
   "cell_type": "code",
   "execution_count": null,
   "id": "b8239860",
   "metadata": {},
   "outputs": [],
   "source": []
  },
  {
   "cell_type": "code",
   "execution_count": null,
   "id": "7b562a8a",
   "metadata": {},
   "outputs": [],
   "source": []
  }
 ],
 "metadata": {
  "kernelspec": {
   "display_name": "Python 3 (ipykernel)",
   "language": "python",
   "name": "python3"
  },
  "language_info": {
   "codemirror_mode": {
    "name": "ipython",
    "version": 3
   },
   "file_extension": ".py",
   "mimetype": "text/x-python",
   "name": "python",
   "nbconvert_exporter": "python",
   "pygments_lexer": "ipython3",
   "version": "3.9.12"
  }
 },
 "nbformat": 4,
 "nbformat_minor": 5
}
